{
 "cells": [
  {
   "cell_type": "markdown",
   "metadata": {},
   "source": [
    "# Cas pratique en Python\n",
    "\n",
    "## Devenons botanistes avec du machine learning\n",
    "\n",
    "L'idée de cet exercice est de **classer** des iris par espèce en fonction de leur **caractéristiques**.\n",
    "\n",
    "Nous pouvons faire cet exemple car nous avons à notre disposition un **jeu de données** sur 150 iris qui sont classées par espèces.\n",
    "\n",
    "Nous avons les données suivantes pour chaque fleur :\n",
    "\n",
    "- Longueur du pétale (cm)\n",
    "- Largeur du pétale (cm)\n",
    "- Longueur du sépale (cm)\n",
    "- Largeur du sépale (cm)\n",
    "\n",
    "Nous avons aussi pour chaque fleur son espèce.\n",
    "\n",
    "Grâce à ces données, nous pouvons entraîner notre machine à **apprendre** et à **reconnaître** d'éventuelles futures iris !\n",
    "\n",
    "Cet exemple est largement inspiré de l'article [initiation au machine learning avec Python](https://makina-corpus.com/blog/metier/2017/initiation-au-machine-learning-avec-python-pratique)"
   ]
  },
  {
   "cell_type": "markdown",
   "metadata": {},
   "source": [
    "## Visualisons nos données\n",
    "\n",
    "### Chargement\n"
   ]
  },
  {
   "cell_type": "code",
   "execution_count": 1,
   "metadata": {
    "scrolled": true
   },
   "outputs": [],
   "source": [
    "# On utilise la librairie scikit learn pour le machine learning\n",
    "from sklearn import datasets\n",
    "\n",
    "# On charge des données de test\n",
    "iris = datasets.load_iris()"
   ]
  },
  {
   "cell_type": "markdown",
   "metadata": {},
   "source": [
    "### Affichage des caractéristiques\n",
    "\n",
    "On affiche quelque chose en Python avec la fonction `print()`.\n",
    "\n",
    "Les caractéristiques sont disponibles dans l'attribut `feature_names` de l'objet `iris` ==> `iris.feature_names`."
   ]
  },
  {
   "cell_type": "code",
   "execution_count": 2,
   "metadata": {},
   "outputs": [
    {
     "name": "stdout",
     "output_type": "stream",
     "text": [
      "['sepal length (cm)', 'sepal width (cm)', 'petal length (cm)', 'petal width (cm)']\n"
     ]
    }
   ],
   "source": [
    "# Affichage des caractéristiques des mesures\n",
    "print(iris.feature_names)"
   ]
  },
  {
   "cell_type": "markdown",
   "metadata": {},
   "source": [
    "### Affichage des premières mesures\n",
    "\n",
    "Les mesures sont disponibles dans l'attribut `data` de l'objet `iris` ==> `iris.data`.\n",
    "\n",
    "L'attribut `data` est un tableau. Pour accéder aux 10 premières mesures, d'un tableau nommé `mon_tableau` on peut utiliser la notation suivante : `mon_tableau[0:10]`."
   ]
  },
  {
   "cell_type": "code",
   "execution_count": 3,
   "metadata": {},
   "outputs": [
    {
     "name": "stdout",
     "output_type": "stream",
     "text": [
      "[[5.1 3.5 1.4 0.2]\n",
      " [4.9 3.  1.4 0.2]\n",
      " [4.7 3.2 1.3 0.2]\n",
      " [4.6 3.1 1.5 0.2]\n",
      " [5.  3.6 1.4 0.2]]\n"
     ]
    }
   ],
   "source": [
    "# Affichage des 5 premières mesures\n",
    "print(iris.data[0:5])"
   ]
  },
  {
   "cell_type": "markdown",
   "metadata": {},
   "source": [
    "### Affichage des espèces de fleurs\n",
    "\n",
    "Les différentes espèces de fleurs sont disponibles dans l'attribut `target_names` de l'objet `iris` ==> `iris.target_names`."
   ]
  },
  {
   "cell_type": "code",
   "execution_count": 4,
   "metadata": {},
   "outputs": [
    {
     "name": "stdout",
     "output_type": "stream",
     "text": [
      "['setosa' 'versicolor' 'virginica']\n"
     ]
    }
   ],
   "source": [
    "# Affichage des classes de fleurs\n",
    "print(iris.target_names)"
   ]
  },
  {
   "cell_type": "markdown",
   "metadata": {},
   "source": [
    "### Affichage des classifications des fleurs"
   ]
  },
  {
   "cell_type": "code",
   "execution_count": 5,
   "metadata": {},
   "outputs": [
    {
     "name": "stdout",
     "output_type": "stream",
     "text": [
      "[0 0 0 0 0 0 0 0 0 0 0 0 0 0 0 0 0 0 0 0 0 0 0 0 0 0 0 0 0 0 0 0 0 0 0 0 0\n",
      " 0 0 0 0 0 0 0 0 0 0 0 0 0 1 1 1 1 1 1 1 1 1 1 1 1 1 1 1 1 1 1 1 1 1 1 1 1\n",
      " 1 1 1 1 1 1 1 1 1 1 1 1 1 1 1 1 1 1 1 1 1 1 1 1 1 1 2 2 2 2 2 2 2 2 2 2 2\n",
      " 2 2 2 2 2 2 2 2 2 2 2 2 2 2 2 2 2 2 2 2 2 2 2 2 2 2 2 2 2 2 2 2 2 2 2 2 2\n",
      " 2 2]\n"
     ]
    }
   ],
   "source": [
    "# Affichage des classifications\n",
    "print(iris.target)"
   ]
  },
  {
   "cell_type": "markdown",
   "metadata": {},
   "source": [
    "### Affichage de graphique représentant les données"
   ]
  },
  {
   "cell_type": "code",
   "execution_count": 6,
   "metadata": {},
   "outputs": [],
   "source": [
    "import matplotlib.pyplot as plt\n",
    "import matplotlib as mpl\n",
    "import numpy as np\n",
    "\n",
    "data = iris.data\n",
    "\n",
    "fig = plt.figure(figsize=(15, 7))\n",
    "fig.subplots_adjust(hspace=0.4, wspace=0.4)\n",
    "ax1 = plt.subplot(1,2,1)\n",
    "\n",
    "clist = ['red', 'orange', 'blue']\n",
    "colors = [clist[c] for c in iris.target]\n",
    "\n",
    "ax1.scatter(data[:, 0], data[:, 1], c=colors)\n",
    "plt.xlabel('Longueur du sépale (cm)')\n",
    "plt.ylabel('Largueur du sépale (cm)')\n",
    "\n",
    "ax2 = plt.subplot(1,2,2)\n",
    "\n",
    "ax2.scatter(data[:, 2], data[:, 3], color=colors)\n",
    "\n",
    "plt.xlabel('Longueur du pétale (cm)')\n",
    "plt.ylabel('Largueur du pétale (cm)')\n",
    "\n",
    "# Légende\n",
    "for ind, s in enumerate(iris.target_names):\n",
    "    # on dessine de faux points, car la légende n'affiche que les points ayant un label\n",
    "    plt.scatter([], [], label=s, color=clist[ind])\n",
    "\n",
    "plt.legend(scatterpoints=1, frameon=False, labelspacing=1, bbox_to_anchor=(1.3, .5), loc=\"center right\", title='Espèces')\n",
    "plt.plot()"
   ]
  },
  {
   "cell_type": "markdown",
   "execution_count": null,
   "metadata": {},
   "outputs": [],
   "source": [
    "## Essayons d'apprendre à la machine\n",
    "\n",
    "### Quel algorithme choisir\n",
    "\n",
    "#### Les plus proches voisins\n",
    "\n",
    "Comment feriez-vous pour classifier \"à la main\" les mesures des fleurs ?\n",
    "\n",
    "Moi je ferais bien un test avec les plus **proches voisins** vu le graphique ! Cela veut dire qu'on va utiliser un algorithme qui va essayer de classifier une fleur en essayant de trouver les fleurs dont les mesures se rapprochent le plus.\n",
    "\n",
    "Pour les quatre mesures d'une fleur (longueur et largeur / pétale et sépale), je prends les n plus proches mesures par rapport à celle de cette fleur et je choisis la catégorie la plus représentée."
   ]
  },
  {
   "cell_type": "code",
   "execution_count": null,
   "metadata": {},
   "outputs": [],
   "source": [
    "from sklearn import neighbors\n",
    "from sklearn.metrics import accuracy_score\n",
    "\n",
    "# On sépare nos données en deux groupes\n",
    "# Les données de test du modèle (pour véfier le modèle)\n",
    "data_test, target_test = data[::2], iris.target[::2]\n",
    "# Les données d'entraînement du modèle\n",
    "data_train, target_train = data[1::2], iris.target[1::2]\n",
    "\n",
    "# On choisit le modèle\n",
    "clf = neighbors.KNeighborsClassifier(n_neighbors=1)\n",
    "# On entraîne le modèle avec la fonction fit\n",
    "clf.fit(data_train, target_train)\n",
    "# On tente une prédiction sur les données de test\n",
    "result = clf.predict(data_test)\n",
    "\n",
    "# On vérifie la précision du modèle\n",
    "score = accuracy_score(result, target_test)\n",
    "print(score)"
   ]
  },
  {
   "cell_type": "markdown",
   "execution_count": null,
   "metadata": {},
   "outputs": [],
   "source": [
    "#### Comment faire mieux\n",
    "\n",
    "Essayez de faire varier le paramètre `n_neighbors` et donnez moi la meilleure optimisation."
   ]
  },
  {
   "cell_type": "markdown",
   "execution_count": null,
   "metadata": {},
   "outputs": [],
   "source": [
    "#### Comment se rendre compte de la précision du modèle\n",
    "\n",
    "On va afficher la matrice de confusion pour se rendre compte des erreurs de notre modèle."
   ]
  },
  {
   "cell_type": "code",
   "execution_count": null,
   "metadata": {},
   "outputs": [],
   "source": [
    "import seaborn as sns\n",
    "from sklearn.metrics import confusion_matrix\n",
    "\n",
    "# On calcule la matrice de confusion\n",
    "conf = confusion_matrix(target_test, result)\n",
    "\n",
    "# On affiche la matrice sous forme de graphique\n",
    "sns.heatmap(conf, square=True, annot=True, cbar=False\n",
    "            , xticklabels=list(iris.target_names)\n",
    "            , yticklabels=list(iris.target_names))\n",
    "plt.xlabel('valeurs prédites')\n",
    "plt.ylabel('valeurs réelles')"
   ]
  },
  {
   "cell_type": "markdown",
   "execution_count": null,
   "metadata": {},
   "outputs": [],
   "source": [
    "#### Territoires de classification\n",
    "\n",
    "Afin de se rendre compte de ce qu'a appris la machine, on va afficher la façon dont il classifie tout ça.\n",
    "\n",
    "##### Etape 1 : Pétales"
   ]
  },
  {
   "cell_type": "code",
   "execution_count": null,
   "metadata": {},
   "outputs": [],
   "source": [
    "# Récupération des longeurs/largeurs de pétales seulement\n",
    "data = iris.data[:, 2:4]\n",
    "\n",
    "# On apprend à nouveau (cette fois sans séparer données de test et données de validation ==> on s'entraine avec toutes les données)\n",
    "clf.fit(data, iris.target)\n",
    "\n",
    "# On recherche les valeurs min/max de longueurs/largeurs des pétales\n",
    "x_min, x_max = data[:, 0].min(), data[:, 0].max() + 1\n",
    "y_min, y_max = data[:, 1].min(), data[:, 1].max() + 1\n",
    "\n",
    "# On en fait des tableaux de valeurs allant de min à max avec un pas de h\n",
    "h = .15\n",
    "x = np.arange(x_min, x_max, h)\n",
    "y = np.arange(y_min, y_max, h)\n",
    "\n",
    "# On se fait une grille avec ces points\n",
    "xx, yy = np.meshgrid(x, y)\n",
    "data_samples = list(zip(xx.ravel(), yy.ravel()))\n",
    "\n",
    "# On tente une validation du modèle avec ces valeurs\n",
    "result = clf.predict(data_samples)\n",
    "\n",
    "plt.figure(1)\n",
    "clist = ['red', 'orange', 'blue']\n",
    "colors = [clist[c] for c in result]\n",
    "\n",
    "plt.scatter(xx.ravel(), yy.ravel(), c=colors)\n",
    "plt.xlim(xx.min() - .1, xx.max() + .1)\n",
    "plt.ylim(yy.min() - .1, yy.max() + .1)\n",
    "plt.xlabel('Longueur du pétale (cm)')\n",
    "plt.ylabel('Largueur du pétale (cm)')\n",
    "\n",
    "for ind, s in enumerate(iris.target_names):\n",
    "    # on dessine de faux points, car la légende n'affiche que les points ayant un label\n",
    "    plt.scatter([], [], label=s, color=clist[ind])\n",
    "\n",
    "plt.legend(scatterpoints=1, frameon=False, labelspacing=1, bbox_to_anchor=(1.3, .5), loc=\"center right\", title='Espèces')\n",
    "plt.plot()"
   ]
  },
  {
   "cell_type": "markdown",
   "execution_count": null,
   "metadata": {},
   "outputs": [],
   "source": [
    "##### Etape 2 : Sépale\n",
    "\n",
    "A vous de jouer !\n",
    "\n",
    "C'est quasiment le même code à écrire mais il faut changer les **labels**. Je vous met le début parce que je suis sympa !"
   ]
  },
  {
   "cell_type": "code",
   "execution_count": null,
   "metadata": {},
   "outputs": [],
   "source": [
    "# Récupération des longeurs/largeurs de sépales seulement\n",
    "data = iris.data[:, :2]\n",
    "\n",
    "# On apprend à nouveau (cette fois sans séparer données de test et données de validation ==> on s'entraine avec toutes les données)\n",
    "clf.fit(data, iris.target)\n",
    "\n",
    "# On recherche les valeurs min/max de longueurs/largeurs des pétales\n",
    "x_min, x_max = data[:, 0].min(), data[:, 0].max() + 1\n",
    "y_min, y_max = data[:, 1].min(), data[:, 1].max() + 1\n",
    "\n",
    "# On en fait des tableaux de valeurs allant de min à max avec un pas de h\n",
    "h = .15\n",
    "x = np.arange(x_min, x_max, h)\n",
    "y = np.arange(y_min, y_max, h)\n",
    "\n",
    "# On se fait une grille avec ces points\n",
    "xx, yy = np.meshgrid(x, y)\n",
    "data_samples = list(zip(xx.ravel(), yy.ravel()))\n",
    "\n",
    "# On tente une validation du modèle avec ces valeurs\n",
    "result = clf.predict(data_samples)\n",
    "\n",
    "plt.figure(1)\n",
    "clist = ['red', 'orange', 'blue']\n",
    "colors = [clist[c] for c in result]\n",
    "\n",
    "plt.scatter(xx.ravel(), yy.ravel(), c=colors)\n",
    "plt.xlim(xx.min() - .1, xx.max() + .1)\n",
    "plt.ylim(yy.min() - .1, yy.max() + .1)\n",
    "plt.xlabel('Longueur du sépale (cm)')\n",
    "plt.ylabel('Largueur du sépale (cm)')\n",
    "\n",
    "for ind, s in enumerate(iris.target_names):\n",
    "    # on dessine de faux points, car la légende n'affiche que les points ayant un label\n",
    "    plt.scatter([], [], label=s, color=clist[ind])\n",
    "\n",
    "plt.legend(scatterpoints=1, frameon=False, labelspacing=1, bbox_to_anchor=(1.3, .5), loc=\"center right\", title='Espèces')\n",
    "plt.plot()"
   ]
  },
  {
   "cell_type": "markdown",
   "execution_count": null,
   "metadata": {},
   "outputs": [],
   "source": [
    "#### Visualisation de l'importance du choix du paramètre\n",
    "\n",
    "Refaites varier le paramètre `n` (nombre de voisins à considérer), et regarder les changements sur les graphiques. C'est cool, non ?"
   ]
  },
  {
   "cell_type": "markdown",
   "execution_count": null,
   "metadata": {},
   "outputs": [],
   "source": [
    "### La classification Naive Bayes\n",
    "\n",
    "On va tester un autre algorithme pour classifier nos fleurs et voir s'il est plus efficace !"
   ]
  },
  {
   "cell_type": "code",
   "execution_count": null,
   "metadata": {},
   "outputs": [],
   "source": [
    "from sklearn.naive_bayes import GaussianNB\n",
    "\n",
    "data = iris.data\n",
    "# On sépare nos données en deux groupes\n",
    "# Les données de test du modèle (pour véfier le modèle)\n",
    "data_test, target_test = data[::2], iris.target[::2]\n",
    "# Les données d'entraînement du modèle\n",
    "data_train, target_train = data[1::2], iris.target[1::2]\n",
    "\n",
    "# On choisit le modèle\n",
    "clf = GaussianNB()\n",
    "# On entraîne le modèle avec la fonction fit\n",
    "clf.fit(data_train, target_train)\n",
    "# On tente une prédiction sur les données de test\n",
    "result = clf.predict(data_test)\n",
    "\n",
    "# On vérifie la précision du modèle\n",
    "score = accuracy_score(result, target_test)\n",
    "print(score)\n",
    "\n",
    "# On calcule la matrice de confusion\n",
    "conf = confusion_matrix(target_test, result)\n",
    "\n",
    "# On affiche la matrice sous forme de graphique\n",
    "sns.heatmap(conf, square=True, annot=True, cbar=False\n",
    "            , xticklabels=list(iris.target_names)\n",
    "            , yticklabels=list(iris.target_names))\n",
    "plt.xlabel('valeurs prédites')\n",
    "plt.ylabel('valeurs réelles')"
   ]
  }
 ],
 "metadata": {
  "kernelspec": {
   "display_name": "Python 3",
   "language": "python",
   "name": "python3"
  },
  "language_info": {
   "codemirror_mode": {
    "name": "ipython",
    "version": 3
   },
   "file_extension": ".py",
   "mimetype": "text/x-python",
   "name": "python",
   "nbconvert_exporter": "python",
   "pygments_lexer": "ipython3",
   "version": "3.7.3"
  }
 },
 "nbformat": 4,
 "nbformat_minor": 2
}