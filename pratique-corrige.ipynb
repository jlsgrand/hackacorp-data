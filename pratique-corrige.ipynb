{
 "cells": [
  {
   "cell_type": "markdown",
   "metadata": {},
   "source": [
    "# Cas pratique en Python\n",
    "\n",
    "## Devenons botanistes avec du machine learning\n",
    "\n",
    "L'idée de cet exercice est de **classer** des iris par espèce en fonction de leur **caractéristiques**.\n",
    "\n",
    "Nous pouvons faire cet exemple car nous avons à notre disposition un **jeu de données** sur 150 iris qui sont classées par espèces.\n",
    "\n",
    "Nous avons les données suivantes pour chaque fleur :\n",
    "\n",
    "- Longueur du pétale (cm)\n",
    "- Largeur du pétale (cm)\n",
    "- Longueur du sépale (cm)\n",
    "- Largeur du sépale (cm)\n",
    "\n",
    "Nous avons aussi pour chaque fleur son espèce.\n",
    "\n",
    "Grâce à ces données, nous pouvons entraîner notre machine à **apprendre** et à **reconnaître** d'éventuelles futures iris !\n",
    "\n",
    "Cet exemple est largement inspiré de l'article [initiation au machine learning avec Python](https://makina-corpus.com/blog/metier/2017/initiation-au-machine-learning-avec-python-pratique)"
   ]
  },
  {
   "cell_type": "markdown",
   "metadata": {},
   "source": [
    "## Visualisons nos données\n",
    "\n",
    "### Chargement\n"
   ]
  },
  {
   "cell_type": "code",
   "execution_count": 1,
   "metadata": {
    "scrolled": true
   },
   "outputs": [],
   "source": [
    "# On utilise la librairie scikit learn pour le machine learning\n",
    "from sklearn import datasets\n",
    "\n",
    "# On charge des données de test\n",
    "iris = datasets.load_iris()"
   ]
  },
  {
   "cell_type": "markdown",
   "metadata": {},
   "source": [
    "### Affichage des caractéristiques\n",
    "\n",
    "On affiche quelque chose en Python avec la fonction `print()`.\n",
    "\n",
    "Les caractéristiques sont disponibles dans l'attribut `feature_names` de l'objet `iris` ==> `iris.feature_names`."
   ]
  },
  {
   "cell_type": "code",
   "execution_count": 2,
   "metadata": {},
   "outputs": [
    {
     "name": "stdout",
     "output_type": "stream",
     "text": [
      "['sepal length (cm)', 'sepal width (cm)', 'petal length (cm)', 'petal width (cm)']\n"
     ]
    }
   ],
   "source": [
    "# Affichage des caractéristiques des mesures\n",
    "print(iris.feature_names)"
   ]
  },
  {
   "cell_type": "markdown",
   "metadata": {},
   "source": [
    "### Affichage des premières mesures\n",
    "\n",
    "Les mesures sont disponibles dans l'attribut `data` de l'objet `iris` ==> `iris.data`.\n",
    "\n",
    "L'attribut `data` est un tableau. Pour accéder aux 10 premières mesures, d'un tableau nommé `mon_tableau` on peut utiliser la notation suivante : `mon_tableau[0:10]`."
   ]
  },
  {
   "cell_type": "code",
   "execution_count": 3,
   "metadata": {},
   "outputs": [
    {
     "name": "stdout",
     "output_type": "stream",
     "text": [
      "[[5.1 3.5 1.4 0.2]\n",
      " [4.9 3.  1.4 0.2]\n",
      " [4.7 3.2 1.3 0.2]\n",
      " [4.6 3.1 1.5 0.2]\n",
      " [5.  3.6 1.4 0.2]]\n"
     ]
    }
   ],
   "source": [
    "# Affichage des 5 premières mesures\n",
    "print(iris.data[0:5])"
   ]
  },
  {
   "cell_type": "markdown",
   "metadata": {},
   "source": [
    "### Affichage des espèces de fleurs\n",
    "\n",
    "Les différentes espèces de fleurs sont disponibles dans l'attribut `target_names` de l'objet `iris` ==> `iris.target_names`."
   ]
  },
  {
   "cell_type": "code",
   "execution_count": 4,
   "metadata": {},
   "outputs": [
    {
     "name": "stdout",
     "output_type": "stream",
     "text": [
      "['setosa' 'versicolor' 'virginica']\n"
     ]
    }
   ],
   "source": [
    "# Affichage des classes de fleurs\n",
    "print(iris.target_names)"
   ]
  },
  {
   "cell_type": "markdown",
   "metadata": {},
   "source": [
    "### Affichage des classifications des fleurs"
   ]
  },
  {
   "cell_type": "code",
   "execution_count": 5,
   "metadata": {},
   "outputs": [
    {
     "name": "stdout",
     "output_type": "stream",
     "text": [
      "[0 0 0 0 0 0 0 0 0 0 0 0 0 0 0 0 0 0 0 0 0 0 0 0 0 0 0 0 0 0 0 0 0 0 0 0 0\n",
      " 0 0 0 0 0 0 0 0 0 0 0 0 0 1 1 1 1 1 1 1 1 1 1 1 1 1 1 1 1 1 1 1 1 1 1 1 1\n",
      " 1 1 1 1 1 1 1 1 1 1 1 1 1 1 1 1 1 1 1 1 1 1 1 1 1 1 2 2 2 2 2 2 2 2 2 2 2\n",
      " 2 2 2 2 2 2 2 2 2 2 2 2 2 2 2 2 2 2 2 2 2 2 2 2 2 2 2 2 2 2 2 2 2 2 2 2 2\n",
      " 2 2]\n"
     ]
    }
   ],
   "source": [
    "# Affichage des classifications\n",
    "print(iris.target)"
   ]
  },
  {
   "cell_type": "markdown",
   "metadata": {},
   "source": [
    "### Affichage de graphique représentant les données"
   ]
  },
  {
   "cell_type": "code",
   "execution_count": 6,
   "metadata": {},
   "outputs": [],
   "source": [
    "import matplotlib.pyplot as plt\n",
    "import matplotlib as mpl\n",
    "import numpy as np\n",
    "\n",
    "data = iris.data\n",
    "\n",
    "fig = plt.figure(figsize=(15, 7))\n",
    "fig.subplots_adjust(hspace=0.4, wspace=0.4)\n",
    "ax1 = plt.subplot(1,2,1)\n",
    "\n",
    "clist = ['red', 'orange', 'blue']\n",
    "colors = [clist[c] for c in iris.target]\n",
    "\n",
    "ax1.scatter(data[:, 0], data[:, 1], c=colors)\n",
    "plt.xlabel('Longueur du sépale (cm)')\n",
    "plt.ylabel('Largueur du sépale (cm)')\n",
    "\n",
    "ax2 = plt.subplot(1,2,2)\n",
    "\n",
    "ax2.scatter(data[:, 2], data[:, 3], color=colors)\n",
    "\n",
    "plt.xlabel('Longueur du pétale (cm)')\n",
    "plt.ylabel('Largueur du pétale (cm)')\n",
    "\n",
    "# Légende\n",
    "for ind, s in enumerate(iris.target_names):\n",
    "    # on dessine de faux points, car la légende n'affiche que les points ayant un label\n",
    "    plt.scatter([], [], label=s, color=clist[ind])\n",
    "\n",
    "plt.legend(scatterpoints=1, frameon=False, labelspacing=1\n",
    "           , bbox_to_anchor=(1.8, .5) , loc=\"center right\", title='Espèces')\n",
    "plt.plot();"
   ]
  }
 ],
 "metadata": {
  "kernelspec": {
   "display_name": "Python 3",
   "language": "python",
   "name": "python3"
  },
  "language_info": {
   "codemirror_mode": {
    "name": "ipython",
    "version": 3
   },
   "file_extension": ".py",
   "mimetype": "text/x-python",
   "name": "python",
   "nbconvert_exporter": "python",
   "pygments_lexer": "ipython3",
   "version": "3.7.3"
  }
 },
 "nbformat": 4,
 "nbformat_minor": 2
}
